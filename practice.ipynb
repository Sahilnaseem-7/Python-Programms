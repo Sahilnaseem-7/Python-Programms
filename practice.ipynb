{
 "cells": [
  {
   "cell_type": "code",
   "execution_count": 2,
   "metadata": {},
   "outputs": [
    {
     "name": "stdout",
     "output_type": "stream",
     "text": [
      "False\n",
      "True\n"
     ]
    }
   ],
   "source": [
    "x = 5\n",
    "y = 8\n",
    "is_equal = x>y\n",
    "print(is_equal)\n",
    "is_not_equal = x!=y\n",
    "print(is_not_equal)"
   ]
  },
  {
   "cell_type": "code",
   "execution_count": 3,
   "metadata": {},
   "outputs": [
    {
     "name": "stdout",
     "output_type": "stream",
     "text": [
      "x is greater than 40\n",
      "y is greater than x\n"
     ]
    }
   ],
   "source": [
    "x = 60\n",
    "\n",
    "if x>40:\n",
    "    print(\"x is greater than 40\")\n",
    "else:\n",
    "    print(\"x is less than 40\")\n",
    "\n",
    "y = 4678\n",
    "\n",
    "if y>x:\n",
    "    print(\"y is greater than x\")\n",
    "else:\n",
    "    print(\"y is less than x\")\n"
   ]
  },
  {
   "cell_type": "code",
   "execution_count": 4,
   "metadata": {},
   "outputs": [
    {
     "name": "stdout",
     "output_type": "stream",
     "text": [
      "You are eligible to vote\n"
     ]
    }
   ],
   "source": [
    "age = int(input(\"Enter your age \\n\"))\n",
    "if age>=18:\n",
    "    print(\"You are eligible to vote\")\n",
    "else:\n",
    "    print(\"You are not eligible to vote\")"
   ]
  },
  {
   "cell_type": "code",
   "execution_count": 5,
   "metadata": {},
   "outputs": [
    {
     "name": "stdout",
     "output_type": "stream",
     "text": [
      "The number is odd\n"
     ]
    }
   ],
   "source": [
    "num = int(input(\"Enter a number \\n\"))\n",
    "if num%2==0:\n",
    "    print(\"The number is even\")\n",
    "else:\n",
    "    print(\"The number is odd\")"
   ]
  },
  {
   "cell_type": "code",
   "execution_count": 9,
   "metadata": {},
   "outputs": [
    {
     "name": "stdout",
     "output_type": "stream",
     "text": [
      "The number is divisibles by 5\n"
     ]
    }
   ],
   "source": [
    "num = int(input(\"Enter a number \\n\"))\n",
    "if num % 5 == 0:\n",
    "  print(\"The number is divisibles by 5\")\n",
    "else:\n",
    "  print(\"The number is not divisibles by 5\")"
   ]
  },
  {
   "cell_type": "code",
   "execution_count": 10,
   "metadata": {},
   "outputs": [
    {
     "name": "stdout",
     "output_type": "stream",
     "text": [
      "Sahil Naseem\n"
     ]
    }
   ],
   "source": [
    "name = str(input(\"Enter your name \\n\"))\n",
    "Propername = name.title()\n",
    "print(Propername)"
   ]
  },
  {
   "cell_type": "code",
   "execution_count": 11,
   "metadata": {},
   "outputs": [
    {
     "name": "stdout",
     "output_type": "stream",
     "text": [
      "Give the shirt to Eahtesham\n"
     ]
    }
   ],
   "source": [
    "color = str(input(\"Enter the colour of the shirt \\n\"))\n",
    "Colour = color.capitalize()\n",
    "if Colour == \"Red\":\n",
    "    print(\"Give the shirt to Dheeraj\")\n",
    "elif Colour == \"Blue\":\n",
    "    print(\"Give the shirt to Alok\")\n",
    "elif Colour == \"Yellow\":\n",
    "    print(\"Give the shirt to Eahtesham\")\n",
    "elif Colour == \"Pink\":\n",
    "    print(\"Give the shirt to Armaan\")\n",
    "else:\n",
    "    print(\"Return the shirt\")            "
   ]
  },
  {
   "cell_type": "code",
   "execution_count": 13,
   "metadata": {},
   "outputs": [
    {
     "name": "stdout",
     "output_type": "stream",
     "text": [
      "Good performance. You've got grade A \n"
     ]
    }
   ],
   "source": [
    "marks = int(input(\"Input your marks \\n\"))\n",
    "if marks >= 90:\n",
    "    grade = \"A\"\n",
    "    if marks >= 95:\n",
    "        print(\"EXcellent performance, You're at the top of class\")\n",
    "    else:\n",
    "        print(\"Good performance. You've got grade A \")\n",
    "elif marks >=80:\n",
    "    garde = \"B\"\n",
    "    print(\"Good work. You've got grade \")\n",
    "elif marks >=60:\n",
    "    garde = \"C\"\n",
    "    print(\"You've got grade. Improve next time\")\n"
   ]
  },
  {
   "cell_type": "code",
   "execution_count": null,
   "metadata": {},
   "outputs": [],
   "source": [
    "num = input\n",
    "result = \"Even\" if num % 2 == 0 else \"Odd\"\n",
    "print(result)"
   ]
  },
  {
   "cell_type": "code",
   "execution_count": 14,
   "metadata": {},
   "outputs": [],
   "source": [
    "import os"
   ]
  },
  {
   "cell_type": "code",
   "execution_count": 15,
   "metadata": {},
   "outputs": [
    {
     "name": "stdout",
     "output_type": "stream",
     "text": [
      "0.667\n"
     ]
    }
   ],
   "source": [
    "import numpy\n",
    "from decimal import Decimal\n",
    "x = Decimal('0.756')\n",
    "y = Decimal('0.089')\n",
    "result = x - y\n",
    "print(result)"
   ]
  },
  {
   "cell_type": "code",
   "execution_count": 16,
   "metadata": {},
   "outputs": [
    {
     "name": "stdout",
     "output_type": "stream",
     "text": [
      "Result =  0.270504\n",
      "0.270504\n"
     ]
    }
   ],
   "source": [
    "a = 0.7956\n",
    "b = 0.34\n",
    "Result = a * b\n",
    "print (\"Result = \", Result)\n",
    "\n",
    "\n",
    "\n",
    "import numpy\n",
    "from decimal import Decimal\n",
    "x = Decimal('0.7956')\n",
    "y = Decimal('0.34')\n",
    "result = x * y\n",
    "print(result)"
   ]
  },
  {
   "cell_type": "code",
   "execution_count": 65,
   "metadata": {},
   "outputs": [
    {
     "name": "stdout",
     "output_type": "stream",
     "text": [
      "Initializing release announcement sequence...\n",
      "3\n",
      "2\n",
      "1\n",
      "Let's dive in to the DA-108 final week content!\n",
      "\n",
      "Release announcement complete! Happy learning!\n"
     ]
    }
   ],
   "source": [
    "import time\n",
    "\n",
    "def release_announcement(message, delay=0.05):\n",
    "    for char in message:\n",
    "        print(char, end='', flush=False)\n",
    "        time.sleep(delay)\n",
    "    print('\\n')\n",
    "\n",
    "message = \"Let's dive in to the DA-108 final week content!\"\n",
    "print(\"Initializing release announcement sequence...\")\n",
    "time.sleep(1)\n",
    "print(\"3\")\n",
    "time.sleep(1)\n",
    "print(\"2\")\n",
    "time.sleep(1)\n",
    "print(\"1\")\n",
    "time.sleep(1)\n",
    "\n",
    "release_announcement(message)\n",
    "print(\"Release announcement complete! Happy learning!\")"
   ]
  },
  {
   "cell_type": "code",
   "execution_count": 1,
   "metadata": {},
   "outputs": [
    {
     "name": "stdout",
     "output_type": "stream",
     "text": [
      "HELLO 1\n",
      "HELLO 2\n",
      "HELLO 3\n",
      "HELLO 4\n",
      "HELLO 5\n",
      "1\n",
      "2\n",
      "3\n",
      "4\n",
      "5\n",
      "Loop Ended\n",
      "5\n",
      "4\n",
      "3\n",
      "2\n",
      "1\n"
     ]
    }
   ],
   "source": [
    "#While Loops\n",
    "count = 1\n",
    "while count <= 5:\n",
    "    print(\"HELLO\", count)\n",
    "    count+=1\n",
    "#While Loops\n",
    "i = 1\n",
    "while i <= 5:\n",
    "    print(i)\n",
    "    i+=1\n",
    "print(\"Loop Ended\") \n",
    "j = 5\n",
    "while j>=1 :\n",
    "    print(j)\n",
    "    j-=1   \n"
   ]
  },
  {
   "cell_type": "code",
   "execution_count": null,
   "metadata": {},
   "outputs": [],
   "source": [
    "#Multiplication\n",
    "n = int(input(\"Input the desired number for multiplication\"))\n",
    "print(\"Here is the Multiplication table for\",n)\n",
    "i = 1\n",
    "while i<= 10:\n",
    "    print(n*i)\n",
    "    i+=1\n",
    "print(\"Multiplication Done\")    "
   ]
  },
  {
   "cell_type": "code",
   "execution_count": null,
   "metadata": {},
   "outputs": [],
   "source": [
    "#Print the num in this list\n",
    "numbers = [1,4,9,16,25,36,49,64,81,100]\n",
    "idx = 0\n",
    "while idx < len(numbers) :\n",
    "    print(numbers[idx])\n",
    "    idx+=1\n"
   ]
  },
  {
   "cell_type": "code",
   "execution_count": 2,
   "metadata": {},
   "outputs": [
    {
     "name": "stdout",
     "output_type": "stream",
     "text": [
      "Finding\n",
      "Finding\n",
      "Finding\n",
      "Finding\n",
      "Finding\n",
      "Finding\n",
      "Finding\n",
      "Finding\n",
      "Number is found at given index 8\n"
     ]
    }
   ],
   "source": [
    "numb = (1,4,9,16,25,36,49,64,81,100)\n",
    "n = int(input(\"Enter the number to search\"))\n",
    "i = 0\n",
    "while i < len(numb):\n",
    "    if (numb[i] == n):\n",
    "        print(\"Number is found at given index\", i)\n",
    "        break\n",
    "    else:\n",
    "        print(\"Finding\")    \n",
    "    i+=1"
   ]
  },
  {
   "cell_type": "code",
   "execution_count": 3,
   "metadata": {},
   "outputs": [
    {
     "name": "stdout",
     "output_type": "stream",
     "text": [
      "2\n",
      "4\n",
      "6\n",
      "8\n",
      "10\n"
     ]
    }
   ],
   "source": [
    "i = 1\n",
    "while i<=10:\n",
    "    #Skip Printing odd\n",
    "    if(i%2!=0):\n",
    "        i+=1\n",
    "        continue \n",
    "    print(i)\n",
    "    i+=1  "
   ]
  },
  {
   "cell_type": "code",
   "execution_count": 4,
   "metadata": {},
   "outputs": [
    {
     "name": "stdout",
     "output_type": "stream",
     "text": [
      "1\n",
      "4\n",
      "6\n",
      "7\n",
      "8\n",
      "9\n",
      "10\n"
     ]
    }
   ],
   "source": [
    "#For loops\n",
    "tup =(1,4,6,7,8,9,10)\n",
    "for val in tup:\n",
    "    print(val)"
   ]
  },
  {
   "cell_type": "code",
   "execution_count": 7,
   "metadata": {},
   "outputs": [
    {
     "name": "stdout",
     "output_type": "stream",
     "text": [
      "Number is found at index 6\n"
     ]
    }
   ],
   "source": [
    "numbers = (1,4,9,16,25,36,49,64,81,100)\n",
    "n = int(input(\"Enter the number to search\"))\n",
    "idx = 0\n",
    "for val in numbers:\n",
    "    if(val == n):\n",
    "        print(\"Number is found at index\",idx)\n",
    "    idx+=1    \n"
   ]
  },
  {
   "cell_type": "code",
   "execution_count": 6,
   "metadata": {},
   "outputs": [
    {
     "name": "stdout",
     "output_type": "stream",
     "text": [
      "0\n",
      "5\n",
      "10\n",
      "15\n",
      "20\n",
      "25\n",
      "30\n",
      "35\n",
      "40\n",
      "45\n"
     ]
    }
   ],
   "source": [
    "for el in range(0,50,5):\n",
    "    print(el)"
   ]
  },
  {
   "cell_type": "code",
   "execution_count": null,
   "metadata": {},
   "outputs": [],
   "source": [
    "#ODD numbers upto 100\n",
    "for i in range(1,100,2):\n",
    "    print(i)\n",
    "  "
   ]
  },
  {
   "cell_type": "code",
   "execution_count": null,
   "metadata": {},
   "outputs": [],
   "source": [
    "#Even numbers upto 100\n",
    "for i in range(2,101,2):\n",
    "    print(i)  "
   ]
  },
  {
   "cell_type": "code",
   "execution_count": null,
   "metadata": {},
   "outputs": [],
   "source": [
    "#Reverse printing\n",
    "for i in range(100,0,-1):\n",
    "    print(i)"
   ]
  },
  {
   "cell_type": "code",
   "execution_count": null,
   "metadata": {},
   "outputs": [],
   "source": [
    "#Multiplication\n",
    "n = int(input(\"Input the desired number for multiplication\"))\n",
    "for i in range(1,11):\n",
    "    print(i*n)"
   ]
  },
  {
   "cell_type": "code",
   "execution_count": 81,
   "metadata": {},
   "outputs": [
    {
     "name": "stdout",
     "output_type": "stream",
     "text": [
      "Pass statement to skip \n"
     ]
    }
   ],
   "source": [
    "for i in range(5):\n",
    "    pass\n",
    "print(\"Pass statement to skip \")"
   ]
  },
  {
   "cell_type": "code",
   "execution_count": 117,
   "metadata": {},
   "outputs": [
    {
     "name": "stdout",
     "output_type": "stream",
     "text": [
      "Sum of given n is 45\n"
     ]
    }
   ],
   "source": [
    "#Print total the sum of given n\n",
    "n = 9\n",
    "sum = 0\n",
    "i = 1\n",
    "while i<=n:\n",
    "    sum += i\n",
    "    i+= 1\n",
    "print(\"Sum of given n is\", sum)    "
   ]
  },
  {
   "cell_type": "code",
   "execution_count": 1,
   "metadata": {},
   "outputs": [
    {
     "name": "stdout",
     "output_type": "stream",
     "text": [
      "Sum of given n is 120\n"
     ]
    }
   ],
   "source": [
    "#Finding factorial using forloop\n",
    "n = int(input(\"Enter the number to find the factorial\"))\n",
    "sum = 1\n",
    "for i in range(1, n+1):\n",
    "    sum *= i\n",
    "print(\"Sum of given n is\", sum)  "
   ]
  }
 ],
 "metadata": {
  "kernelspec": {
   "display_name": "Python 3",
   "language": "python",
   "name": "python3"
  },
  "language_info": {
   "codemirror_mode": {
    "name": "ipython",
    "version": 3
   },
   "file_extension": ".py",
   "mimetype": "text/x-python",
   "name": "python",
   "nbconvert_exporter": "python",
   "pygments_lexer": "ipython3",
   "version": "3.13.1"
  }
 },
 "nbformat": 4,
 "nbformat_minor": 2
}
